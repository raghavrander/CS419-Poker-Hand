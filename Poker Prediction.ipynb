{
  "nbformat": 4,
  "nbformat_minor": 0,
  "metadata": {
    "colab": {
      "provenance": []
    },
    "kernelspec": {
      "name": "python3",
      "display_name": "Python 3"
    },
    "language_info": {
      "name": "python"
    }
  },
  "cells": [
    {
      "cell_type": "code",
      "execution_count": null,
      "metadata": {
        "id": "-Ewjb6GOPNLP"
      },
      "outputs": [],
      "source": [
        "############# Imports ################\n",
        "from keras.models import Sequential\n",
        "from keras.layers import Input, Dense, Flatten\n",
        "from keras.models import Model\n",
        "import numpy as np, pandas as pd, os\n",
        "from matplotlib import pyplot as plt\n",
        "import math"
      ]
    },
    {
      "cell_type": "code",
      "source": [
        "################# Importing data and defining configuration data ##############\n",
        "feature = list()\n",
        "for i in range(1,6):\n",
        "  feature.extend([\"Suit\"+str(i), \"Rank\"+str(i)])\n",
        "\n",
        "feature.append('class')\n",
        "\n",
        "training_data_file = os.path.abspath('/content/poker-hand-training-true.csv')\n",
        "testing_data_file = os.path.abspath('/content/poker-hand-testing.csv')\n",
        "np.random.seed(600)\n",
        "\n",
        "# Storing configuration fdata\n",
        "class configs:\n",
        "  features = 0\n",
        "  classes = 0\n",
        "\n",
        "poker = configs()"
      ],
      "metadata": {
        "id": "phX7YzFxmfnH"
      },
      "execution_count": null,
      "outputs": []
    },
    {
      "cell_type": "code",
      "source": [
        "###################### Reading and Analysing Data ###################\n",
        "train_data = pd.read_csv(training_data_file, names = feature)\n",
        "test_data = pd.read_csv(testing_data_file, names=feature)\n",
        "\n",
        "# Extracting features and classes from training data\n",
        "poker.features = len(train_data.columns) - 1\n",
        "poker.classes = len(set(train_data['class']))\n",
        "\n",
        "\n",
        "# Shuffle training data\n",
        "train_data = train_data.sample(frac=1).reset_index(drop=True)\n",
        "\n",
        "# Seperating data and classes\n",
        "train_y = np.array(train_data['class'])\n",
        "train_x = np.array(train_data.drop('class', 1))\n",
        "test_y = np.array(test_data['class'])\n",
        "test_x = np.array(test_data.drop('class', 1))\n",
        "\n",
        "train_y_onehot = list()\n",
        "for y in range(len(train_y)):\n",
        "  temp = [0] * poker.classes\n",
        "  temp[train_y[y]] = 1\n",
        "  train_y_onehot.append(temp)\n",
        "\n",
        "test_y_onehot = list()\n",
        "for y in range(len(test_y)):\n",
        "  temp = [0] * poker.classes\n",
        "  temp[test_y[y]] = 1\n",
        "  test_y_onehot.append(temp)\n",
        "\n",
        "train_y_onehot = np.array(train_y_onehot)\n",
        "test_y_onehot = np.array(test_y_onehot)\n",
        "\n",
        "print(\"Features in data sample :\", poker.features)\n",
        "print(\"Classes in data sample :\", poker.classes)\n",
        "\n",
        "print(\"Instances in training data :\", len(train_data))\n",
        "print(\"Instances in testing data :\", len(test_data))\n"
      ],
      "metadata": {
        "colab": {
          "base_uri": "https://localhost:8080/",
          "height": 306
        },
        "id": "47ips5r5n6jS",
        "outputId": "fc8b6cf6-18d6-4db8-f235-e157a047f254"
      },
      "execution_count": null,
      "outputs": [
        {
          "output_type": "stream",
          "name": "stderr",
          "text": [
            "/usr/local/lib/python3.7/dist-packages/ipykernel_launcher.py:15: FutureWarning: In a future version of pandas all arguments of DataFrame.drop except for the argument 'labels' will be keyword-only\n",
            "  from ipykernel import kernelapp as app\n",
            "/usr/local/lib/python3.7/dist-packages/ipykernel_launcher.py:17: FutureWarning: In a future version of pandas all arguments of DataFrame.drop except for the argument 'labels' will be keyword-only\n"
          ]
        },
        {
          "output_type": "error",
          "ename": "TypeError",
          "evalue": "ignored",
          "traceback": [
            "\u001b[0;31m---------------------------------------------------------------------------\u001b[0m",
            "\u001b[0;31mTypeError\u001b[0m                                 Traceback (most recent call last)",
            "\u001b[0;32m<ipython-input-8-abb410330375>\u001b[0m in \u001b[0;36m<module>\u001b[0;34m\u001b[0m\n\u001b[1;32m     26\u001b[0m \u001b[0;32mfor\u001b[0m \u001b[0my\u001b[0m \u001b[0;32min\u001b[0m \u001b[0mrange\u001b[0m\u001b[0;34m(\u001b[0m\u001b[0mlen\u001b[0m\u001b[0;34m(\u001b[0m\u001b[0mtest_y\u001b[0m\u001b[0;34m)\u001b[0m\u001b[0;34m)\u001b[0m\u001b[0;34m:\u001b[0m\u001b[0;34m\u001b[0m\u001b[0;34m\u001b[0m\u001b[0m\n\u001b[1;32m     27\u001b[0m   \u001b[0mtemp\u001b[0m \u001b[0;34m=\u001b[0m \u001b[0;34m[\u001b[0m\u001b[0;36m0\u001b[0m\u001b[0;34m]\u001b[0m \u001b[0;34m*\u001b[0m \u001b[0mpoker\u001b[0m\u001b[0;34m.\u001b[0m\u001b[0mclasses\u001b[0m\u001b[0;34m\u001b[0m\u001b[0;34m\u001b[0m\u001b[0m\n\u001b[0;32m---> 28\u001b[0;31m   \u001b[0mtemp\u001b[0m\u001b[0;34m[\u001b[0m\u001b[0mtest_y\u001b[0m\u001b[0;34m[\u001b[0m\u001b[0my\u001b[0m\u001b[0;34m]\u001b[0m\u001b[0;34m]\u001b[0m \u001b[0;34m=\u001b[0m \u001b[0;36m1\u001b[0m\u001b[0;34m\u001b[0m\u001b[0;34m\u001b[0m\u001b[0m\n\u001b[0m\u001b[1;32m     29\u001b[0m   \u001b[0mtest_y_onehot\u001b[0m\u001b[0;34m.\u001b[0m\u001b[0mappend\u001b[0m\u001b[0;34m(\u001b[0m\u001b[0mtemp\u001b[0m\u001b[0;34m)\u001b[0m\u001b[0;34m\u001b[0m\u001b[0;34m\u001b[0m\u001b[0m\n\u001b[1;32m     30\u001b[0m \u001b[0;34m\u001b[0m\u001b[0m\n",
            "\u001b[0;31mTypeError\u001b[0m: list indices must be integers or slices, not numpy.float64"
          ]
        }
      ]
    },
    {
      "cell_type": "code",
      "source": [
        "################### Deep Neural Network Model ###########################\n",
        "model = Sequential()\n",
        "\n",
        "# Input layer\n",
        "model.add(Dense(10, input_shape = (train_x.shape[1],), activation='tanh'))\n",
        "\n",
        "# Hidden layer\n",
        "model.add(Dense(64, activation='tanh'))\n",
        "model.add(Dense(64, activation='tanh'))\n",
        "model.add(Dense(64, activation='tanh'))\n",
        "model.add(Dense(64, activation='tanh'))\n",
        "model.add(Dense(64, activation='tanh'))\n",
        "\n",
        "# Output layer\n",
        "model.add(Dense(10, activation='softmax'))\n",
        "model.compile(loss='categorical_crossentropy', optimizer='adam', metrics=['accuracy'])\n",
        "model.fit(train_x, train_y_onehot, epochs = 450, batch_size = 500, verbose=0)"
      ],
      "metadata": {
        "colab": {
          "base_uri": "https://localhost:8080/"
        },
        "id": "BJCx8kVtqG9t",
        "outputId": "37e911b9-77c4-42e4-dd53-08ffc3fad47a"
      },
      "execution_count": null,
      "outputs": [
        {
          "output_type": "execute_result",
          "data": {
            "text/plain": [
              "<keras.callbacks.History at 0x7fc834ce91d0>"
            ]
          },
          "metadata": {},
          "execution_count": 21
        }
      ]
    },
    {
      "cell_type": "code",
      "source": [
        "########################## Running Prediction on Training data ##########################\n",
        "preds = [list(x) for x in model.predict(train_x)]\n",
        "for i in range(len(preds)):\n",
        "    preds[i] = preds[i].index(max(preds[i]))\n",
        "\n",
        "\n",
        "train_matches = 0\n",
        "for i in range(len(train_y)):\n",
        "    if train_y[i] == preds[i]:\n",
        "        train_matches += 1\n",
        "\n",
        "print(\"Matches :\", train_matches, '/', len(train_y), '=', train_matches/len(train_y) * 100)\n",
        "print(\"Average Error :\", sum([math.fabs(x-y) for x, y in zip(train_y, preds)])/len(train_y))\n",
        "print(\"RMSE :\", math.sqrt(sum([(x-y)**2 for x, y in zip(train_y, preds)])/len(train_y)))\n",
        "\n",
        "plt.plot(train_y, 'ro', label='Original')\n",
        "plt.plot(preds, 'go', label='Predicted')\n",
        "plt.legend()\n",
        "plt.show()"
      ],
      "metadata": {
        "colab": {
          "base_uri": "https://localhost:8080/",
          "height": 317
        },
        "id": "NrdR4avHqOlq",
        "outputId": "454883f3-2b0c-43cf-84fe-9a50a23042dd"
      },
      "execution_count": null,
      "outputs": [
        {
          "output_type": "stream",
          "name": "stdout",
          "text": [
            "Matches : 21038 / 25010 = 84.11835265893643\n",
            "Average Error : 0.18404638144742103\n",
            "RMSE : 0.5332225328061476\n"
          ]
        },
        {
          "output_type": "display_data",
          "data": {
            "text/plain": [
              "<Figure size 432x288 with 1 Axes>"
            ],
            "image/png": "[encoded data removed]"
          },
          "metadata": {
            "needs_background": "light"
          }
        }
      ]
    },
    {
      "cell_type": "code",
      "source": [
        "#################### Running Prediction on Testing data ###################\n",
        "preds = [list(x) for x in model.predict(test_x)]\n",
        "for i in range(len(preds)):\n",
        "    preds[i] = preds[i].index(max(preds[i]))\n",
        "\n",
        "test_matches = 0\n",
        "for i in range(len(test_y)):\n",
        "    if test_y[i] == preds[i]:\n",
        "        test_matches += 1\n",
        "\n",
        "print(\"Matches :\", test_matches, '/', len(test_y), '=', test_matches/len(test_y) * 100)\n",
        "print(\"Average Error :\", sum([math.fabs(x-y) for x, y in zip(test_y, preds)])/len(test_y))\n",
        "print(\"RMSE :\", math.sqrt(sum([(x-y)**2 for x, y in zip(test_y, preds)])/len(test_y)))\n",
        "\n",
        "plt.plot(test_y, 'ro', label='Original')\n",
        "plt.plot(preds, 'go', label='Predicted')\n",
        "plt.legend()\n",
        "plt.show()"
      ],
      "metadata": {
        "colab": {
          "base_uri": "https://localhost:8080/",
          "height": 330
        },
        "id": "TGdmya0CqQTP",
        "outputId": "ad64efd9-0e6f-4e0d-80d4-a6fee0732780"
      },
      "execution_count": null,
      "outputs": [
        {
          "output_type": "stream",
          "name": "stdout",
          "text": [
            "Matches : 794946 / 1000000 = 79.4946\n",
            "Average Error : 0.238674\n",
            "RMSE : 0.5939983164959308\n"
          ]
        },
        {
          "output_type": "display_data",
          "data": {
            "text/plain": [
              "<Figure size 432x288 with 1 Axes>"
            ],
            "image/png": "[encoded data removed]"
          },
          "metadata": {
            "needs_background": "light"
          }
        }
      ]
    },
    {
      "cell_type": "code",
      "source": [
        "##################### Evaluating the Model ########################\n",
        "scores = model.evaluate(train_x, train_y_onehot)\n",
        "print(\"Train =\", model.metrics_names[1], scores[1] * 100)\n",
        "\n",
        "scores = model.evaluate(test_x, test_y_onehot)\n",
        "print(\"Test =\", model.metrics_names[1], scores[1] * 100)"
      ],
      "metadata": {
        "colab": {
          "base_uri": "https://localhost:8080/"
        },
        "id": "TWB49IXvqRvQ",
        "outputId": "e1cae367-b5fc-4c32-8b55-1281236358a9"
      },
      "execution_count": null,
      "outputs": [
        {
          "output_type": "stream",
          "name": "stdout",
          "text": [
            "782/782 [==============================] - 1s 1ms/step - loss: 0.3818 - accuracy: 0.8412\n",
            "Train = accuracy 84.11835432052612\n",
            "31250/31250 [==============================] - 66s 2ms/step - loss: 0.5197 - accuracy: 0.7949\n",
            "Test = accuracy 79.4946014881134\n"
          ]
        }
      ]
    },
    {
      "cell_type": "code",
      "source": [
        "##################### Analysing accuracy of the model ##################\n",
        "train_accuracies = list()\n",
        "test_accuracies = list()\n",
        "\n",
        "for iterations in range(50, 500, 50):\n",
        "    model.fit(train_x, train_y_onehot, epochs = iterations, batch_size = 500, verbose=0)\n",
        "    scores = model.evaluate(train_x, train_y_onehot, verbose=0)\n",
        "    train_accuracies.append(scores[1]* 100)\n",
        "    scores = model.evaluate(test_x, test_y_onehot, verbose=0)\n",
        "    test_accuracies.append(scores[1]* 100)\n",
        "\n",
        "plt.title('Accuracies for training data')\n",
        "plt.plot(range(50, 500, 50), train_accuracies)\n",
        "plt.show()\n",
        "plt.title('Accuracies for testing data')\n",
        "plt.plot(range(50, 500, 50), test_accuracies)\n",
        "plt.show()"
      ],
      "metadata": {
        "colab": {
          "base_uri": "https://localhost:8080/",
          "height": 545
        },
        "id": "NWflqVHPqSxh",
        "outputId": "53ccdce2-53b6-41d5-89c1-67ad75b831cd"
      },
      "execution_count": null,
      "outputs": [
        {
          "output_type": "display_data",
          "data": {
            "text/plain": [
              "<Figure size 432x288 with 1 Axes>"
            ],
            "image/png": "[encoded data removed]"
          },
          "metadata": {
            "needs_background": "light"
          }
        },
        {
          "output_type": "display_data",
          "data": {
            "text/plain": [
              "<Figure size 432x288 with 1 Axes>"
            ],
            "image/png": "[encoded data removed]"
          },
          "metadata": {
            "needs_background": "light"
          }
        }
      ]
    }
  ]
}